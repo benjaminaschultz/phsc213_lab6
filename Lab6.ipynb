{
 "cells": [
  {
   "cell_type": "markdown",
   "metadata": {},
   "source": [
    "## Molecular and atomic spectra\n",
    "\n",
    "In this lab, we'll use some simulated data to explore the structure of atomic and molecular spectra and learn how we can use knowledge of these spectra to determine chemical composition of unknown substances.\n",
    "\n",
    "\n",
    "This lab is inspired by a method of finding pollutants in clouds. A high-power laser is fired into a cloud, exciting electrons and molecules. As these systems relax to their equilibrium states, they emit characteristic radiation which is used to determine the concentration of certain elements.\n",
    "\n",
    "\n",
    "### Instructions\n",
    "In today's lab, we'll focus on a mixture of two ficticious atoms A and B. Each of the these atoms forms diatomic molecules ($A_2$ and $B_2$) at room temperature.\n",
    "\n",
    "We'll begin by studying their spectra to determine some properties of each atom (and molecule). Then, we'll turn our attention to an unknown mixture of the two elements and use a measurement of the spectra of emitted by the gas to determine the relative concentrations of $A$ and $B$.\n",
    "\n",
    "### Characterizing $A$ and $B$\n",
    "\n",
    "We'll begin by imagining we are in a lab setting and can take a clear measurement of the spectra emitted by $A$ and $B$ seperately. They will be shown below.\n",
    "\n",
    "\n",
    "For each, you should determine\n",
    "* What is $Z_{eff}$ for the atoms $A$ and $B$?\n",
    "* What is the natural frequency ($\\omega$) of the bond between the atoms in the diatomic molecules ($A_2$ and $B_2$)?\n",
    "* What is the the moment of intertia ($I$) of each of the diatomic molecules?\n",
    "\n",
    "\n",
    "As you examine the spectra below, keep in mind that the enery levels of atoms are\n",
    "\n",
    "$$ E_n = -13.6eV  Z_{eff}^2 / n^2 $$\n",
    "\n",
    "and electronic transitions are given by\n",
    "\n",
    "$$ \\Delta E = -13.6eV  Z_{eff}^2 \\left( \\frac{1}{n_1^2} - \\frac{1}{n_2^2}\\right)$$\n",
    "\n",
    "\n",
    "The energy levels of diatomic molecules are given by\n",
    "\n",
    "$$ E_{\\nu, j} = (\\nu + 1/2) \\hbar \\omega + \\frac{\\hbar^2}{2I}j(j+1)$$\n",
    "\n",
    "and molecular transitions are subject to the rules that $\\Delta\\nu =\\pm1$ and $\\Delta j=\\pm 1$\n",
    "\n",
    "as we discussed, this will produce transitions with\n",
    "\n",
    "$$\\Delta E = \\hbar \\omega + \\frac{\\hbar^2}{I} (j+1)$$ for transitions with $\\Delta j = 1 $\n",
    "\n",
    "and\n",
    "$$\\Delta E = \\hbar \\omega - \\frac{\\hbar^2}{I}j$$ for transitions with $\\Delta j = -1 $\n"
   ]
  },
  {
   "cell_type": "code",
   "execution_count": null,
   "metadata": {},
   "outputs": [],
   "source": [
    "%matplotlib notebook\n",
    "from spectra import *"
   ]
  },
  {
   "cell_type": "code",
   "execution_count": null,
   "metadata": {},
   "outputs": [],
   "source": [
    "# Execute this cell to plot the spectrum of A atoms after it has been excited\n",
    "plot_atom_A()"
   ]
  },
  {
   "cell_type": "code",
   "execution_count": null,
   "metadata": {},
   "outputs": [],
   "source": [
    "# Execute this cell to plot the spectrum of A_2 molecules after it has been excited\n",
    "plot_molecule_A2()"
   ]
  },
  {
   "cell_type": "code",
   "execution_count": null,
   "metadata": {},
   "outputs": [],
   "source": [
    "# Execute this cell to plot the spectrum of B atoms after they has been excited\n",
    "plot_atom_B()"
   ]
  },
  {
   "cell_type": "code",
   "execution_count": null,
   "metadata": {},
   "outputs": [],
   "source": [
    "# Execute this cell to plot the spectrum of B atoms after they has been excited\n",
    "plot_molecule_B2()"
   ]
  },
  {
   "cell_type": "markdown",
   "metadata": {},
   "source": [
    "In your write-up, show how you determined $Z_{eff}$, $\\omega$ and $I$ for each atom/molecule."
   ]
  },
  {
   "cell_type": "markdown",
   "metadata": {},
   "source": [
    "### Into the field\n",
    "\n",
    "Next, we'll imagine that we aim our laser up at the sky where there is a mixture of $A_2$ and $B_2$ gases. We would like to determine the relative concentrations of each molecule.\n",
    "\n",
    "\n",
    "In order to do this, we will record a spectrum from the field, and use a numberical fitting algorithm to determine the relative concentration.\n",
    "\n",
    "\n",
    "First, let's get have a look at what we record. Make note of any features that you observe - do you see recognizable atomic transitions? Do you see recognizable molecular transitions?"
   ]
  },
  {
   "cell_type": "code",
   "execution_count": null,
   "metadata": {},
   "outputs": [],
   "source": [
    "# execute this cell to show the data that we have recorded in the field\n",
    "plt.figure()\n",
    "plt.plot(evs, observed_data, 'k')\n",
    "plt.xlabel('eVs')\n",
    "plt.ylabel('Intensity')\n",
    "plt.title('Observed data')"
   ]
  },
  {
   "cell_type": "markdown",
   "metadata": {},
   "source": [
    "\n",
    "The first step to determining the relatively concentrations of $A_2$ and $B_2$ is to right a function that can predict the results of an abritrary mixture of those two gases. Since we have determined $Z_{eff}$, $\\omega$ and $I$, this is pretty easy to do! The expected results are just the sum of the two spectra.\n",
    "\n",
    "The function `compute_mixture` does exactly this task. It takes one parameter, $c$ which is the ratio of $A_2$ molecules to $B_2$ molecules.\n",
    "\n",
    "To get a feel for how it works, call it with $c=0.5$ and $c=2.0$ below. What do you notice about the spectra for these different values of $c$?"
   ]
  },
  {
   "cell_type": "code",
   "execution_count": null,
   "metadata": {},
   "outputs": [],
   "source": [
    "# execute this cell to plot predicitions of the spectra for different concentrations\n",
    "\n",
    "spectrum = compute_mixture(c=2.0) #CHANGE THIS VARIABLE\n",
    "plt.figure()\n",
    "plt.plot(evs, spectrum, 'k')\n",
    "plt.xlabel('eVs')\n",
    "plt.ylabel('Intensity')\n",
    "plt.title('Predicted Data')"
   ]
  },
  {
   "cell_type": "markdown",
   "metadata": {},
   "source": [
    "*Make a predicition* - is there more of atom $A$ or $B$ in the unknown mixture?\n",
    "\n",
    "### Least squares\n",
    "Next, we'll use a \"least squares\" optimizing routine to determine the relative concentrations of the two gases\n",
    "\n",
    "The function `fit_to_mixture_spectrum` will tell the computer to use our function above (`compute_mixture_spectrum`) and vary its $c$ parameter until it most closely matches the observed spectrum.\n",
    "\n",
    "It takes a parameter `data` and returns an estimate of $c$.\n",
    "\n",
    "Let's call it below"
   ]
  },
  {
   "cell_type": "code",
   "execution_count": null,
   "metadata": {},
   "outputs": [],
   "source": [
    "c_estimate = fit_to_mixture_spectrum(observed_data)\n",
    "print(f\"The best fit for parameter c is {c_estimate:0.2f}\")"
   ]
  },
  {
   "cell_type": "markdown",
   "metadata": {},
   "source": [
    "Does the unknown gas have more $A_2$ or $B_2$?\n",
    "\n",
    "Finally, let's plot this estimate against our data to see how it compares!"
   ]
  },
  {
   "cell_type": "code",
   "execution_count": null,
   "metadata": {},
   "outputs": [],
   "source": [
    "plt.figure()\n",
    "plt.plot(evs, observed_data, '-k', label='observed', alpha=0.5)\n",
    "plt.plot(evs, compute_mixture(c_estimate), '--r', label='fit', alpha=0.5)\n",
    "plt.xlabel('eV')\n",
    "plt.ylabel('Intensity')\n",
    "plt.legend()"
   ]
  },
  {
   "cell_type": "code",
   "execution_count": null,
   "metadata": {},
   "outputs": [],
   "source": []
  }
 ],
 "metadata": {
  "kernelspec": {
   "display_name": "Python 3",
   "language": "python",
   "name": "python3"
  },
  "language_info": {
   "codemirror_mode": {
    "name": "ipython",
    "version": 3
   },
   "file_extension": ".py",
   "mimetype": "text/x-python",
   "name": "python",
   "nbconvert_exporter": "python",
   "pygments_lexer": "ipython3",
   "version": "3.9.2"
  }
 },
 "nbformat": 4,
 "nbformat_minor": 4
}
